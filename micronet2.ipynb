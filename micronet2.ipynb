{
 "cells": [
  {
   "cell_type": "code",
   "execution_count": 1,
   "metadata": {},
   "outputs": [],
   "source": [
    "import numpy as np\n",
    "import pandas as pd\n",
    "import seaborn as sns\n",
    "import matplotlib.pyplot as plt"
   ]
  },
  {
   "cell_type": "code",
   "execution_count": 2,
   "metadata": {},
   "outputs": [],
   "source": [
    "# sklearn здесь только, чтобы разделить выборку на тренировочную и тестовую\n",
    "from sklearn.model_selection import train_test_split"
   ]
  },
  {
   "cell_type": "code",
   "execution_count": 3,
   "metadata": {},
   "outputs": [],
   "source": [
    "# сигмоида и ее производная\n",
    "def sigmoid(x):\n",
    "    return 1/(1+np.exp(-x))\n",
    "\n",
    "def sigmoid_deriv(x):\n",
    "    return sigmoid(x)*(1 - sigmoid(x))"
   ]
  },
  {
   "cell_type": "code",
   "execution_count": 4,
   "metadata": {},
   "outputs": [],
   "source": [
    "# нормализация массива\n",
    "#def normalize(X, axis=-1, order=2):\n",
    "#    l2 = np.atleast_1d(np.linalg.norm(X, order, axis))\n",
    "#    l2[l2 == 0] = 1\n",
    "#    return X / np.expand_dims(l2, axis)"
   ]
  },
  {
   "cell_type": "code",
   "execution_count": 5,
   "metadata": {},
   "outputs": [],
   "source": [
    "def normalize(X):\n",
    "    df_scaled = X.copy() \n",
    "   \n",
    "    df_result = (df_scaled-df_scaled.min())/(df_scaled.max()-df_scaled.min())\n",
    "\n",
    "\n",
    "    return   df_result       \n"
   ]
  },
  {
   "cell_type": "code",
   "execution_count": 6,
   "metadata": {},
   "outputs": [
    {
     "name": "stdout",
     "output_type": "stream",
     "text": [
      "    H  W  G\n",
      "0  -2 -1  1\n",
      "1  25  6  0\n",
      "2  17  4  0\n",
      "3 -15 -6  1\n"
     ]
    }
   ],
   "source": [
    "data = pd.DataFrame([\n",
    " [-2, -1,1],  # Алиса\n",
    "  [25, 6,0],   # Боб\n",
    "  [17, 4,0],   # Чарли\n",
    "  [-15, -6,1], # Диана\n",
    "],\n",
    "columns=[\"H\",\"W\",\"G\"])\n",
    "print(data) "
   ]
  },
  {
   "cell_type": "code",
   "execution_count": 7,
   "metadata": {},
   "outputs": [
    {
     "name": "stdout",
     "output_type": "stream",
     "text": [
      "[[ -2  -1]\n",
      " [ 25   6]\n",
      " [ 17   4]\n",
      " [-15  -6]]\n"
     ]
    }
   ],
   "source": [
    "x = pd.DataFrame(data, columns=[\"H\",\"W\"])\n",
    "x =  (x).to_numpy()\n",
    "print(x)"
   ]
  },
  {
   "cell_type": "code",
   "execution_count": 8,
   "metadata": {},
   "outputs": [
    {
     "name": "stdout",
     "output_type": "stream",
     "text": [
      "[[1]\n",
      " [0]\n",
      " [0]\n",
      " [1]]\n"
     ]
    }
   ],
   "source": [
    "y=pd.DataFrame(data, columns=[\"G\"])\n",
    "y = (y).to_numpy()\n",
    "print(y)"
   ]
  },
  {
   "cell_type": "code",
   "execution_count": 9,
   "metadata": {},
   "outputs": [],
   "source": [
    "\n",
    "X_train=x\n",
    "y_train=y\n",
    "\n"
   ]
  },
  {
   "cell_type": "code",
   "execution_count": 10,
   "metadata": {},
   "outputs": [],
   "source": [
    "### Шаг 3. Обученние нейронной сети\n",
    "# присваевание случайных весов\n",
    "w0 = 2*np.random.random((2, 5)) - 1 \n",
    "w1 = 2*np.random.random((5, 5)) - 1\n",
    "w11 = 2*np.random.random((5, 5)) - 1\n",
    "w2 = 2*np.random.random((5, 1)) - 1 "
   ]
  },
  {
   "cell_type": "code",
   "execution_count": 11,
   "metadata": {},
   "outputs": [],
   "source": [
    "# скорость обучения (learning rate)\n",
    "n = 0.0001\n",
    "\n",
    "# массив для ошибок, чтобы потом построить график\n",
    "errors = []"
   ]
  },
  {
   "cell_type": "code",
   "execution_count": 12,
   "metadata": {},
   "outputs": [],
   "source": [
    "# процесс обучения\n",
    "for i in range(500000): #100,000\n",
    "\n",
    "    # прямое распространение(feed forward)\n",
    "    layer0 = X_train\n",
    "    layer1 = sigmoid(np.dot(layer0, w0))\n",
    "    layer2 = sigmoid(np.dot(layer1, w1))\n",
    "    layer11 = sigmoid(np.dot(layer2, w11))\n",
    "    layer3 = sigmoid(np.dot(layer11, w2))\n",
    "\n",
    "    # обратное распространение(back propagation) с использованием градиентного спуска\n",
    "    layer3_error = y_train - layer3\n",
    "    layer3_delta = layer3_error * sigmoid_deriv(layer3)\n",
    "\n",
    "    layer2_error = layer3_delta.dot(w2.T)\n",
    "    layer2_delta = layer2_error * sigmoid_deriv(layer2)\n",
    "\n",
    "    layer11_error = layer2_delta.dot(w11.T)\n",
    "    layer11_delta = layer11_error * sigmoid_deriv(layer11)\n",
    "    \n",
    "    layer1_error = layer11_delta.dot(w1.T)\n",
    "    layer1_delta = layer1_error * sigmoid_deriv(layer1)\n",
    "    \n",
    "    w2 += layer11.T.dot(layer3_delta) * n\n",
    "    w1 += layer1.T.dot(layer2_delta) * n\n",
    "    w11 += layer2.T.dot(layer11_delta) * n\n",
    "    w0 += layer0.T.dot(layer1_delta) * n\n",
    "    \n",
    "    error = np.mean(np.abs(layer3_error))\n",
    "    errors.append(error)\n",
    "    accuracy = (1 - error) * 100"
   ]
  },
  {
   "cell_type": "code",
   "execution_count": 13,
   "metadata": {},
   "outputs": [
    {
     "data": {
      "image/png": "[encoded data removed]",
      "text/plain": [
       "<Figure size 640x480 with 1 Axes>"
      ]
     },
     "metadata": {},
     "output_type": "display_data"
    },
    {
     "name": "stdout",
     "output_type": "stream",
     "text": [
      "Точность нейронной сети 89.73%\n"
     ]
    }
   ],
   "source": [
    "### Шаг 4. Демонстрация полученных результатов\n",
    "# черчение диаграммы точности в зависимости от обучения\n",
    "plt.plot(errors)\n",
    "plt.xlabel('Обучение')\n",
    "plt.ylabel('Ошибка')\n",
    "plt.show()  \n",
    "        \n",
    "print(\"Точность нейронной сети \" + str(round(accuracy,2)) + \"%\")"
   ]
  },
  {
   "cell_type": "code",
   "execution_count": 14,
   "metadata": {},
   "outputs": [],
   "source": [
    "def predict(n):\n",
    "    import inspect\n",
    "    layer0 = n\n",
    "    layer1 = sigmoid(np.dot(layer0, w0))\n",
    "    layer2 = sigmoid(np.dot(layer1, w1))\n",
    "    layer11 = sigmoid(np.dot(layer2, w11))\n",
    "    layer3 = sigmoid(np.dot(layer11, w2))\n",
    "    callers_local_vars = inspect.currentframe().f_back.f_locals.items()\n",
    "   \n",
    "    name = [var_name for var_name, var_val in callers_local_vars if var_val is n]\n",
    "    if layer3>0.5:\n",
    "        print(name[0], \" is Female, probability %.01f\" % (layer3*100), \"%\" )\n",
    "    else:\n",
    "        print(name[0], \" is Male, probability %.01f\" % ((1-layer3)*100), \"%\" )"
   ]
  },
  {
   "cell_type": "code",
   "execution_count": 15,
   "metadata": {},
   "outputs": [
    {
     "name": "stdout",
     "output_type": "stream",
     "text": [
      "Emily  is Female, probability 89.1 %\n",
      "Frank  is Male, probability 90.4 %\n"
     ]
    }
   ],
   "source": [
    "Emily = np.array([-7, -3]) # 128 фунтов (52.35 кг), 63 дюйма (160 см)\n",
    "Frank = np.array([20, 2])  # 155 pounds (63.4 кг), 68 inches (173 см)\n",
    "predict((Emily)) # 0.951 - Ж\n",
    "predict((Frank)) # 0.039 - М"
   ]
  },
  {
   "cell_type": "markdown",
   "metadata": {},
   "source": []
  }
 ],
 "metadata": {
  "kernelspec": {
   "display_name": "Python 3",
   "language": "python",
   "name": "python3"
  },
  "language_info": {
   "codemirror_mode": {
    "name": "ipython",
    "version": 3
   },
   "file_extension": ".py",
   "mimetype": "text/x-python",
   "name": "python",
   "nbconvert_exporter": "python",
   "pygments_lexer": "ipython3",
   "version": "3.10.11"
  }
 },
 "nbformat": 4,
 "nbformat_minor": 2
}
