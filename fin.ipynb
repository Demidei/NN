{
 "cells": [
  {
   "cell_type": "code",
   "execution_count": 7,
   "metadata": {},
   "outputs": [],
   "source": [
    "import keras"
   ]
  },
  {
   "cell_type": "code",
   "execution_count": 8,
   "metadata": {},
   "outputs": [],
   "source": [
    "from keras.datasets import cifar100\n",
    "(x_train, y_train),(x_test, y_test)=cifar100.load_data()"
   ]
  },
  {
   "cell_type": "code",
   "execution_count": 9,
   "metadata": {},
   "outputs": [],
   "source": [
    "img_rows, img_cols = 32,32\n",
    "x_train=x_train.reshape(x_train.shape[0], img_rows, img_cols,3)\n",
    "x_test=x_test.reshape(x_test.shape[0], img_rows, img_cols,3)\n",
    "input_shape=(img_rows,img_cols,3)\n",
    "x_train=x_train.astype(\"float32\")/255\n",
    "x_test=x_test.astype(\"float32\")/255"
   ]
  },
  {
   "cell_type": "code",
   "execution_count": 10,
   "metadata": {},
   "outputs": [],
   "source": [
    "from keras.utils import to_categorical\n",
    "y_train=to_categorical(y_train)\n",
    "y_test=to_categorical(y_test)"
   ]
  },
  {
   "cell_type": "code",
   "execution_count": 11,
   "metadata": {},
   "outputs": [
    {
     "name": "stdout",
     "output_type": "stream",
     "text": [
      "Model: \"sequential_1\"\n",
      "_________________________________________________________________\n",
      " Layer (type)                Output Shape              Param #   \n",
      "=================================================================\n",
      " conv2d_2 (Conv2D)           (None, 30, 30, 128)       3584      \n",
      "                                                                 \n",
      " max_pooling2d_2 (MaxPooling  (None, 15, 15, 128)      0         \n",
      " 2D)                                                             \n",
      "                                                                 \n",
      " conv2d_3 (Conv2D)           (None, 13, 13, 512)       590336    \n",
      "                                                                 \n",
      " max_pooling2d_3 (MaxPooling  (None, 6, 6, 512)        0         \n",
      " 2D)                                                             \n",
      "                                                                 \n",
      " conv2d_4 (Conv2D)           (None, 4, 4, 512)         2359808   \n",
      "                                                                 \n",
      " max_pooling2d_4 (MaxPooling  (None, 2, 2, 512)        0         \n",
      " 2D)                                                             \n",
      "                                                                 \n",
      " flatten_1 (Flatten)         (None, 2048)              0         \n",
      "                                                                 \n",
      " dense_3 (Dense)             (None, 256)               524544    \n",
      "                                                                 \n",
      " dense_4 (Dense)             (None, 256)               65792     \n",
      "                                                                 \n",
      " dense_5 (Dense)             (None, 256)               65792     \n",
      "                                                                 \n",
      " dense_6 (Dense)             (None, 100)               25700     \n",
      "                                                                 \n",
      "=================================================================\n",
      "Total params: 3,635,556\n",
      "Trainable params: 3,635,556\n",
      "Non-trainable params: 0\n",
      "_________________________________________________________________\n"
     ]
    }
   ],
   "source": [
    "from keras.models import Sequential\n",
    "from keras.layers import Conv2D, MaxPooling2D, Flatten, Dense\n",
    "n_out = len(y_train[0])\n",
    "model = Sequential()\n",
    "model.add(Conv2D(128, kernel_size=(3,3), activation=\"relu\", input_shape=input_shape))\n",
    "model.add(MaxPooling2D(pool_size=(2,2)))\n",
    "model.add(Conv2D(512, kernel_size=(3,3), activation=\"relu\"))\n",
    "model.add(MaxPooling2D(pool_size=(2,2)))\n",
    "model.add(Conv2D(512, kernel_size=(3,3), activation=\"relu\"))\n",
    "model.add(MaxPooling2D(pool_size=(2,2)))\n",
    "model.add(Flatten())\n",
    "model.add(Dense(256, activation=\"relu\"))\n",
    "model.add(Dense(256, activation=\"relu\"))\n",
    "model.add(Dense(256, activation=\"relu\"))\n",
    "model.add(Dense(n_out, activation=\"softmax\"))\n",
    "model.summary()\n"
   ]
  },
  {
   "cell_type": "code",
   "execution_count": 12,
   "metadata": {},
   "outputs": [
    {
     "name": "stdout",
     "output_type": "stream",
     "text": [
      "Epoch 1/12\n",
      "250/250 [==============================] - 306s 1s/step - loss: 4.3533 - accuracy: 0.0330\n",
      "Epoch 2/12\n",
      "250/250 [==============================] - 301s 1s/step - loss: 3.8881 - accuracy: 0.0985\n",
      "Epoch 3/12\n",
      "250/250 [==============================] - 308s 1s/step - loss: 3.4977 - accuracy: 0.1651\n",
      "Epoch 4/12\n",
      "250/250 [==============================] - 308s 1s/step - loss: 3.1682 - accuracy: 0.2240\n",
      "Epoch 5/12\n",
      "250/250 [==============================] - 312s 1s/step - loss: 2.8853 - accuracy: 0.2833\n",
      "Epoch 6/12\n",
      "250/250 [==============================] - 310s 1s/step - loss: 2.6292 - accuracy: 0.3342\n",
      "Epoch 7/12\n",
      "250/250 [==============================] - 311s 1s/step - loss: 2.3850 - accuracy: 0.3841\n",
      "Epoch 8/12\n",
      "250/250 [==============================] - 309s 1s/step - loss: 2.1400 - accuracy: 0.4339\n",
      "Epoch 9/12\n",
      "250/250 [==============================] - 308s 1s/step - loss: 1.8887 - accuracy: 0.4860\n",
      "Epoch 10/12\n",
      "250/250 [==============================] - 305s 1s/step - loss: 1.6392 - accuracy: 0.5454\n",
      "Epoch 11/12\n",
      "250/250 [==============================] - 300s 1s/step - loss: 1.3852 - accuracy: 0.6051\n",
      "Epoch 12/12\n",
      "250/250 [==============================] - 298s 1s/step - loss: 1.1471 - accuracy: 0.6647\n",
      "Loss 2.6451470851898193\n",
      "Accuracy 0.4101000130176544\n"
     ]
    }
   ],
   "source": [
    "model.compile(loss=\"categorical_crossentropy\", optimizer = \"rmsprop\", metrics = ['accuracy'])\n",
    "model.fit(x_train, y_train, epochs=12, batch_size = 200)\n",
    "score = model.evaluate(x_test, y_test,  verbose=0)\n",
    "print(\"Loss\", score[0])\n",
    "print(\"Accuracy\", score[1])"
   ]
  }
 ],
 "metadata": {
  "kernelspec": {
   "display_name": "Python 3",
   "language": "python",
   "name": "python3"
  },
  "language_info": {
   "codemirror_mode": {
    "name": "ipython",
    "version": 3
   },
   "file_extension": ".py",
   "mimetype": "text/x-python",
   "name": "python",
   "nbconvert_exporter": "python",
   "pygments_lexer": "ipython3",
   "version": "3.10.11"
  }
 },
 "nbformat": 4,
 "nbformat_minor": 2
}
