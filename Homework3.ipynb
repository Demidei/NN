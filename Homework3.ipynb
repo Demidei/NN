{
 "cells": [
  {
   "cell_type": "code",
   "execution_count": 1,
   "metadata": {},
   "outputs": [],
   "source": [
    "import keras\n",
    "from keras.layers import *\n",
    "import matplotlib.pyplot as plt\n",
    "import numpy as np\n",
    "import keras.utils\n",
    "import keras_tuner\n",
    "import tensorflow\n",
    "from tensorflow.keras.preprocessing import image"
   ]
  },
  {
   "cell_type": "code",
   "execution_count": 2,
   "metadata": {},
   "outputs": [],
   "source": [
    "(x_train, y_train), (x_test, y_test) = keras.datasets.fashion_mnist.load_data()"
   ]
  },
  {
   "cell_type": "code",
   "execution_count": 3,
   "metadata": {},
   "outputs": [],
   "source": [
    "x_train = x_train.astype(\"float32\") / 255\n",
    "x_test = x_test.astype(\"float32\") / 255\n",
    "y_train_cat = keras.utils.to_categorical(y_train, 10)\n",
    "y_test_cat = keras.utils.to_categorical(y_test, 10)"
   ]
  },
  {
   "cell_type": "code",
   "execution_count": 4,
   "metadata": {},
   "outputs": [],
   "source": [
    "def build_model(hp):\n",
    "    n_hidden = hp.Int(\"n_hidden\", min_value=0, max_value=8 )\n",
    "    n_neurons = hp.Int(\"n_neurons\", min_value=16, max_value=256 )\n",
    "    learning_rate = hp.Float(\"learning_rate\", min_value=1e-4, max_value=1e-2, sampling=\"log\" )\n",
    "    optimizer = hp.Choice(\"optimizer\", values=[\"adam\", \"sgd\"])\n",
    "    if optimizer==\"adam\":\n",
    "       optimizer = tensorflow.keras.optimizers.Adam(learning_rate=learning_rate)\n",
    "    else:  \n",
    "        optimizer = tensorflow.keras.optimizers.SGD(learning_rate=learning_rate)\n",
    "    model = tensorflow.keras.Sequential()\n",
    "    model.add (tensorflow.keras.layers.Flatten())\n",
    "    for i in range (n_hidden):\n",
    "        model.add(tensorflow.keras.layers.Dense(n_neurons, activation=\"relu\"))\n",
    "    for i in range (n_hidden):\n",
    "        model.add(tensorflow.keras.layers.Dense(n_neurons, activation=\"tanh\"))\n",
    "    model.add(tensorflow.keras.layers.Dense(10, activation=\"softmax\"))    \n",
    "    model.compile(loss=\"sparse_categorical_crossentropy\", optimizer=optimizer, metrics=[\"accuracy\"])\n",
    "    return model"
   ]
  },
  {
   "cell_type": "code",
   "execution_count": 5,
   "metadata": {},
   "outputs": [],
   "source": [
    "random_search_tuner=keras_tuner.RandomSearch(\n",
    "    build_model,\n",
    "    objective=\"val_accuracy\",\n",
    "    max_trials = 10,\n",
    "    overwrite=True,\n",
    "    seed=37\n",
    ")"
   ]
  },
  {
   "cell_type": "code",
   "execution_count": 6,
   "metadata": {},
   "outputs": [
    {
     "name": "stdout",
     "output_type": "stream",
     "text": [
      "Trial 10 Complete [00h 01m 02s]\n",
      "val_accuracy: 0.8877500295639038\n",
      "\n",
      "Best val_accuracy So Far: 0.8877500295639038\n",
      "Total elapsed time: 00h 10m 03s\n"
     ]
    }
   ],
   "source": [
    "random_search_tuner.search(x_train, y_train, epochs=10, validation_split=0.2)"
   ]
  },
  {
   "cell_type": "code",
   "execution_count": 7,
   "metadata": {},
   "outputs": [],
   "source": [
    "best_model=random_search_tuner.get_best_models()[0]"
   ]
  },
  {
   "cell_type": "code",
   "execution_count": 8,
   "metadata": {},
   "outputs": [
    {
     "name": "stdout",
     "output_type": "stream",
     "text": [
      "Trial 09 summary\n",
      "Hyperparameters:\n",
      "n_hidden: 2\n",
      "n_neurons: 223\n",
      "learning_rate: 0.000797425773423712\n",
      "optimizer: adam\n",
      "Score: 0.8877500295639038\n"
     ]
    }
   ],
   "source": [
    "results = random_search_tuner.oracle.get_best_trials()[0]\n",
    "results.summary()"
   ]
  },
  {
   "cell_type": "markdown",
   "metadata": {},
   "source": []
  },
  {
   "cell_type": "code",
   "execution_count": 9,
   "metadata": {},
   "outputs": [
    {
     "name": "stdout",
     "output_type": "stream",
     "text": [
      "Epoch 1/20\n",
      "1875/1875 [==============================] - 8s 4ms/step - loss: 0.2651 - accuracy: 0.9014\n",
      "Epoch 2/20\n",
      "1875/1875 [==============================] - 7s 4ms/step - loss: 0.2518 - accuracy: 0.9054\n",
      "Epoch 3/20\n",
      "1875/1875 [==============================] - 7s 4ms/step - loss: 0.2396 - accuracy: 0.9087\n",
      "Epoch 4/20\n",
      "1875/1875 [==============================] - 7s 4ms/step - loss: 0.2311 - accuracy: 0.9130\n",
      "Epoch 5/20\n",
      "1875/1875 [==============================] - 7s 4ms/step - loss: 0.2207 - accuracy: 0.9162\n",
      "Epoch 6/20\n",
      "1875/1875 [==============================] - 6s 3ms/step - loss: 0.2156 - accuracy: 0.9183\n",
      "Epoch 7/20\n",
      "1875/1875 [==============================] - 6s 3ms/step - loss: 0.2071 - accuracy: 0.9212\n",
      "Epoch 8/20\n",
      "1875/1875 [==============================] - 7s 4ms/step - loss: 0.1998 - accuracy: 0.9235\n",
      "Epoch 9/20\n",
      "1875/1875 [==============================] - 7s 4ms/step - loss: 0.1933 - accuracy: 0.9265\n",
      "Epoch 10/20\n",
      "1875/1875 [==============================] - 7s 4ms/step - loss: 0.1905 - accuracy: 0.9273\n",
      "Epoch 11/20\n",
      "1875/1875 [==============================] - 7s 4ms/step - loss: 0.1809 - accuracy: 0.9310\n",
      "Epoch 12/20\n",
      "1875/1875 [==============================] - 7s 4ms/step - loss: 0.1767 - accuracy: 0.9320\n",
      "Epoch 13/20\n",
      "1875/1875 [==============================] - 7s 4ms/step - loss: 0.1717 - accuracy: 0.9344\n",
      "Epoch 14/20\n",
      "1875/1875 [==============================] - 7s 3ms/step - loss: 0.1666 - accuracy: 0.9361\n",
      "Epoch 15/20\n",
      "1875/1875 [==============================] - 7s 4ms/step - loss: 0.1628 - accuracy: 0.9377\n",
      "Epoch 16/20\n",
      "1875/1875 [==============================] - 7s 4ms/step - loss: 0.1570 - accuracy: 0.9395\n",
      "Epoch 17/20\n",
      "1875/1875 [==============================] - 7s 4ms/step - loss: 0.1544 - accuracy: 0.9413\n",
      "Epoch 18/20\n",
      "1875/1875 [==============================] - 7s 3ms/step - loss: 0.1490 - accuracy: 0.9428\n",
      "Epoch 19/20\n",
      "1875/1875 [==============================] - 7s 4ms/step - loss: 0.1475 - accuracy: 0.9427\n",
      "Epoch 20/20\n",
      "1875/1875 [==============================] - 7s 4ms/step - loss: 0.1429 - accuracy: 0.9449\n"
     ]
    },
    {
     "data": {
      "text/plain": [
       "<keras.callbacks.History at 0x25d35f19750>"
      ]
     },
     "execution_count": 9,
     "metadata": {},
     "output_type": "execute_result"
    }
   ],
   "source": [
    "best_model.fit(x_train, y_train, epochs=20)"
   ]
  },
  {
   "cell_type": "code",
   "execution_count": 11,
   "metadata": {},
   "outputs": [
    {
     "name": "stdout",
     "output_type": "stream",
     "text": [
      "313/313 [==============================] - 1s 2ms/step - loss: 0.3911 - accuracy: 0.8891\n"
     ]
    }
   ],
   "source": [
    "test_loss, test_accuracy = best_model.evaluate(x_test, y_test)"
   ]
  },
  {
   "cell_type": "code",
   "execution_count": 17,
   "metadata": {},
   "outputs": [
    {
     "name": "stdout",
     "output_type": "stream",
     "text": [
      "313/313 - 1s - loss: 0.3911 - accuracy: 0.8891 - 722ms/epoch - 2ms/step\n"
     ]
    }
   ],
   "source": [
    "from keras.datasets import fashion_mnist\n",
    "from sklearn.metrics import confusion_matrix, precision_score, recall_score, ConfusionMatrixDisplay, accuracy_score\n",
    "\n",
    "(train_images, train_labels), (test_images, test_labels) = fashion_mnist.load_data()\n",
    "\n",
    "# Normalize.\n",
    "train_images = (train_images / 255)\n",
    "test_images = (test_images / 255)\n",
    "test_acc = best_model.evaluate(test_images,  test_labels, verbose=2)"
   ]
  },
  {
   "cell_type": "code",
   "execution_count": 18,
   "metadata": {},
   "outputs": [
    {
     "name": "stdout",
     "output_type": "stream",
     "text": [
      "\n",
      "Test accuracy: [0.39106711745262146, 0.8891000151634216]\n",
      "313/313 [==============================] - 1s 1ms/step\n"
     ]
    },
    {
     "data": {
      "text/plain": [
       "<sklearn.metrics._plot.confusion_matrix.ConfusionMatrixDisplay at 0x25d35f18d00>"
      ]
     },
     "execution_count": 18,
     "metadata": {},
     "output_type": "execute_result"
    },
    {
     "data": {
      "image/png": "[encoded data removed]",
      "text/plain": [
       "<Figure size 640x480 with 2 Axes>"
      ]
     },
     "metadata": {},
     "output_type": "display_data"
    }
   ],
   "source": [
    "print('\\nTest accuracy:', test_acc)\n",
    "  # Получим предсказания\n",
    "probability_model = tensorflow.keras.Sequential([best_model,\n",
    "                                         tensorflow.keras.layers.Softmax()])\n",
    "predictions = probability_model.predict(test_images)\n",
    "y_pred = np.argmax(predictions, axis=1)\n",
    "# Посмотрим на результаты\n",
    "ConfusionMatrixDisplay.from_predictions(test_labels, y_pred)"
   ]
  }
 ],
 "metadata": {
  "kernelspec": {
   "display_name": "Python 3",
   "language": "python",
   "name": "python3"
  },
  "language_info": {
   "codemirror_mode": {
    "name": "ipython",
    "version": 3
   },
   "file_extension": ".py",
   "mimetype": "text/x-python",
   "name": "python",
   "nbconvert_exporter": "python",
   "pygments_lexer": "ipython3",
   "version": "3.10.11"
  }
 },
 "nbformat": 4,
 "nbformat_minor": 2
}
